{
  "nbformat": 4,
  "nbformat_minor": 0,
  "metadata": {
    "colab": {
      "name": "Untitled0.ipynb",
      "provenance": [],
      "collapsed_sections": [],
      "authorship_tag": "ABX9TyNvrgzLaXIyX0lKkSG+ccL0",
      "include_colab_link": true
    },
    "kernelspec": {
      "name": "python3",
      "display_name": "Python 3"
    },
    "language_info": {
      "name": "python"
    }
  },
  "cells": [
    {
      "cell_type": "markdown",
      "metadata": {
        "id": "view-in-github",
        "colab_type": "text"
      },
      "source": [
        "<a href=\"https://colab.research.google.com/github/hanan333/python-peginner/blob/main/Untitled0.ipynb\" target=\"_parent\"><img src=\"https://colab.research.google.com/assets/colab-badge.svg\" alt=\"Open In Colab\"/></a>"
      ]
    },
    {
      "cell_type": "code",
      "source": [
        "#Question:Define a function that can accept two strings as input and concatenate them and then print it in console.\n",
        "def printValue(s1,s2):\n",
        "\tprint (s1+s2)\n",
        "\n",
        "printValue(\"hello \",\"Aya\") \n"
      ],
      "metadata": {
        "colab": {
          "base_uri": "https://localhost:8080/"
        },
        "id": "V2_vz7PVg9Ud",
        "outputId": "fee9431c-6d61-4204-ea80-512d72633e0b"
      },
      "execution_count": null,
      "outputs": [
        {
          "output_type": "stream",
          "name": "stdout",
          "text": [
            "hello Aya\n"
          ]
        }
      ]
    },
    {
      "cell_type": "code",
      "source": [
        "#Question 7 :\n",
        "#Define a function that can accept an integer number as input and print the \"It is an even number\" if the number is even, otherwise print \"It is an odd number\".\n",
        "\n",
        "#Hints:Use % operator to check if a number is even or odd.\n",
        "\n",
        "\n",
        "\n",
        "def find(num):\n",
        "    # code logic here\n",
        "    if num%2 == 0:\n",
        "        numtype=\"even\"\n",
        "    else:\n",
        "        numtype = \"odd\"\n",
        "    return numtype\n",
        "\n",
        "num = int(input('Enter the number: '))  # 1. take your input\n",
        "numtype = find(num)                     # 2. call the find function\n",
        "print('Given number is',numtype)      # 3. print if the number is even or odd"
      ],
      "metadata": {
        "colab": {
          "base_uri": "https://localhost:8080/"
        },
        "id": "PvZPIFtzYkh8",
        "outputId": "ec9a664e-4be3-41c7-d0fb-e425dad0a866"
      },
      "execution_count": null,
      "outputs": [
        {
          "output_type": "stream",
          "name": "stdout",
          "text": [
            "Enter the number: 3\n",
            "Given number is odd\n"
          ]
        }
      ]
    },
    {
      "cell_type": "code",
      "source": [
        " #Question 5 :Define a function that can accept two strings as input and concatenate them and then print it in console.\n",
        "#Hints:Use + to concatenate the strings\n",
        "def concat(st1,st2):\n",
        "  st1 =(input(\"Enter First Strings\"))\n",
        "  st2 =(input(\"Enter Second Strings\"))\n",
        "  concatt=st1+st2\n",
        "  return concatt\n",
        "  concatt=concat(st1,st2)\n",
        "  print('The Strings after concatinations is:',concatt)\n",
        "\n",
        "\n",
        "\n",
        "\n",
        "\n"
      ],
      "metadata": {
        "id": "URzCf4vge3lj"
      },
      "execution_count": null,
      "outputs": []
    },
    {
      "cell_type": "code",
      "source": [
        "from IPython.lib.display import IFrame\n",
        "# Question 8 :Write a program which accepts a string as input to print \"Yes\" if the string is \"yes\" or \"YES\" or \"Yes\", otherwise print \"No\". \n",
        "#Hints:Use if statement to judge condition\n",
        "#string=input(('Enter string yes or YES or Yes'))\n",
        "s= input(\"Please Enter The Secret Word:\")\n",
        "if s==\"yes\" or s==\"YES\" or s==\"Yes\":\n",
        "    print (\"Yes\")\n",
        "else:\n",
        "    print( \"No\")\n",
        "  \n",
        "\n",
        "\n"
      ],
      "metadata": {
        "colab": {
          "base_uri": "https://localhost:8080/"
        },
        "id": "fvdLbN35eiw1",
        "outputId": "ec0fd372-0fa2-4bd9-b29b-eb53132f3b5a"
      },
      "execution_count": null,
      "outputs": [
        {
          "output_type": "stream",
          "name": "stdout",
          "text": [
            "Please Enter The Secret Word:yes\n",
            "Yes\n"
          ]
        }
      ]
    },
    {
      "cell_type": "code",
      "source": [
        "#- write a program which will find all such numbers which are divisible by 7 but are not a multiple of 5,\n",
        "#between 2000 and 3200 (both included). Hint The numbers obtained should be printed in a comma-separated sequence on a single line.\n",
        "#Consider use range(#begin, #end) method\n",
        "n1=[]\n",
        "for x in range(2000, 3200):\n",
        "    if (x%7==0) and (x%5!=0):\n",
        "        n1.append(str(x))\n",
        "print (\" ,\".join(n1))"
      ],
      "metadata": {
        "colab": {
          "base_uri": "https://localhost:8080/"
        },
        "id": "xjstQ-jIpD0R",
        "outputId": "2ef82b99-d06e-4469-9952-1b17d1cb5705"
      },
      "execution_count": null,
      "outputs": [
        {
          "output_type": "stream",
          "name": "stdout",
          "text": [
            "2002 ,2009 ,2016 ,2023 ,2037 ,2044 ,2051 ,2058 ,2072 ,2079 ,2086 ,2093 ,2107 ,2114 ,2121 ,2128 ,2142 ,2149 ,2156 ,2163 ,2177 ,2184 ,2191 ,2198 ,2212 ,2219 ,2226 ,2233 ,2247 ,2254 ,2261 ,2268 ,2282 ,2289 ,2296 ,2303 ,2317 ,2324 ,2331 ,2338 ,2352 ,2359 ,2366 ,2373 ,2387 ,2394 ,2401 ,2408 ,2422 ,2429 ,2436 ,2443 ,2457 ,2464 ,2471 ,2478 ,2492 ,2499 ,2506 ,2513 ,2527 ,2534 ,2541 ,2548 ,2562 ,2569 ,2576 ,2583 ,2597 ,2604 ,2611 ,2618 ,2632 ,2639 ,2646 ,2653 ,2667 ,2674 ,2681 ,2688 ,2702 ,2709 ,2716 ,2723 ,2737 ,2744 ,2751 ,2758 ,2772 ,2779 ,2786 ,2793 ,2807 ,2814 ,2821 ,2828 ,2842 ,2849 ,2856 ,2863 ,2877 ,2884 ,2891 ,2898 ,2912 ,2919 ,2926 ,2933 ,2947 ,2954 ,2961 ,2968 ,2982 ,2989 ,2996 ,3003 ,3017 ,3024 ,3031 ,3038 ,3052 ,3059 ,3066 ,3073 ,3087 ,3094 ,3101 ,3108 ,3122 ,3129 ,3136 ,3143 ,3157 ,3164 ,3171 ,3178 ,3192 ,3199\n"
          ]
        }
      ]
    },
    {
      "cell_type": "code",
      "source": [
        "# Question 1:\n",
        "#Define a function which can print a dictionary where the keys are numbers between 1 and 3 (both included) and the values are square of keys.\n",
        "\n",
        "#Hints:Use dict[key]=value pattern to put entry into a dictionary.Use ** operator to get power of a number.\n",
        "def dictionary():\n",
        "  d=dict()\n",
        "\n",
        "  for x in range(1,4):\n",
        "    d[x]=x**2\n",
        "  print(d)  \n",
        "dictionary()"
      ],
      "metadata": {
        "id": "LmDwm3fH9_MY",
        "colab": {
          "base_uri": "https://localhost:8080/"
        },
        "outputId": "a48b0f91-779d-4344-ac2d-c59bb0ab8e07"
      },
      "execution_count": null,
      "outputs": [
        {
          "output_type": "stream",
          "name": "stdout",
          "text": [
            "{1: 1, 2: 4, 3: 9}\n"
          ]
        }
      ]
    },
    {
      "cell_type": "code",
      "source": [
        " #Question 2:Define a function which can generate a dictionary where the keys are numbers between 1 and 20 (both included) and the values are square of keys. The function should just print the values only.\n",
        "#Hints:Use dict[key]=value pattern to put entry into a dictionary.Use ** operator to get power of a number.\n",
        "#Use range() for loops.Use keys() to iterate keys in the dictionary. Also we can use item() to get key/value pairs.\n",
        "def printDict():\n",
        "\td=dict()\n",
        "\tfor i in range(1,21):\n",
        "\t\td[i]=i**2\n",
        "\tfor k in d.values():\n",
        "\t\tprint (k)\n",
        "printDict()\n",
        "\n",
        "\n",
        "\n",
        "\n"
      ],
      "metadata": {
        "colab": {
          "base_uri": "https://localhost:8080/"
        },
        "id": "JeJmRPFgqRNx",
        "outputId": "4b678464-f2dd-4331-dea8-1e73822658d8"
      },
      "execution_count": null,
      "outputs": [
        {
          "output_type": "stream",
          "name": "stdout",
          "text": [
            "1\n",
            "4\n",
            "9\n",
            "16\n",
            "25\n",
            "36\n",
            "49\n",
            "64\n",
            "81\n",
            "100\n",
            "121\n",
            "144\n",
            "169\n",
            "196\n",
            "225\n",
            "256\n",
            "289\n",
            "324\n",
            "361\n",
            "400\n"
          ]
        }
      ]
    },
    {
      "cell_type": "code",
      "source": [
        "# Question 3:Define a function which can generate a dictionary where the keys are numbers between 1 and 20 (both included) and the values are square of keys. The function should just print the keys only.\n",
        "#Hints:Use dict[key]=value pattern to put entry into a dictionary,Use ** operator to get power of a number.\n",
        "#Use range() for loops.Use keys() to iterate keys in the dictionary. Also we can use item() to get key/value pairs.\n",
        "\n",
        "def printDict():\n",
        "\td=dict()\n",
        "\tfor i in range(1,21):\n",
        "\t\td[i]=i**2\n",
        "\tfor k in d.keys():\n",
        "\t\tprint (k)\n",
        "printDict()\n",
        "\n",
        "\n"
      ],
      "metadata": {
        "colab": {
          "base_uri": "https://localhost:8080/"
        },
        "id": "JdSMIUhL4zKX",
        "outputId": "57443320-de0c-4842-fd3e-fd0048798aba"
      },
      "execution_count": null,
      "outputs": [
        {
          "output_type": "stream",
          "name": "stdout",
          "text": [
            "1\n",
            "2\n",
            "3\n",
            "4\n",
            "5\n",
            "6\n",
            "7\n",
            "8\n",
            "9\n",
            "10\n",
            "11\n",
            "12\n",
            "13\n",
            "14\n",
            "15\n",
            "16\n",
            "17\n",
            "18\n",
            "19\n",
            "20\n"
          ]
        }
      ]
    },
    {
      "cell_type": "code",
      "source": [
        "# Question 4 Write a Python program to check a dictionary is empty or not\n",
        "dictt={'name':'ahmed',\"age\":30,\"job\":\"teacher\"}\n",
        " \n",
        "dict2 = {}\n",
        "\n",
        "print(\"The original dictionary : \" ,(dictt))\n",
        "print(\"The original dictionary : \" ,(dict2))\n",
        "# Check if dictionary is empty\n",
        "if dictt:\n",
        "   print(\"dict1 is not empty\")\n",
        "else:\n",
        "   print(\"dict1 is empty\")\n",
        "if dict2:\n",
        "   print(\"dict2 is not empty\")\n",
        "else:\n",
        "   print(\"dict2 is empty\")"
      ],
      "metadata": {
        "colab": {
          "base_uri": "https://localhost:8080/"
        },
        "id": "qGC1VlmTBNrn",
        "outputId": "a6a23da4-5e39-48b4-d457-580d881753ea"
      },
      "execution_count": null,
      "outputs": [
        {
          "output_type": "stream",
          "name": "stdout",
          "text": [
            "The original dictionary :  {'name': 'ahmed', 'age': 30, 'job': 'teacher'}\n",
            "The original dictionary :  {}\n",
            "dict1 is not empty\n",
            "dict2 is empty\n"
          ]
        }
      ]
    },
    {
      "cell_type": "code",
      "source": [
        " #Question 5Write a Python program to test whether every element in s is in t and every element in t is in s.\n",
        "listS = ['a', 'a', 'b','b','b','c']\n",
        "listT = ['b', 'a','a','b','c','d']\n",
        "all(item in listS for item in listT)and all(item in listT for item in listS)"
      ],
      "metadata": {
        "colab": {
          "base_uri": "https://localhost:8080/"
        },
        "id": "4OvydQb1WAjw",
        "outputId": "1f2d5323-2917-497f-929f-7a931a07ebaa"
      },
      "execution_count": null,
      "outputs": [
        {
          "output_type": "execute_result",
          "data": {
            "text/plain": [
              "False"
            ]
          },
          "metadata": {},
          "execution_count": 15
        }
      ]
    },
    {
      "cell_type": "code",
      "source": [
        "# Question 6 Create set 1 and set 2 then Write a Python program to 1- create an intersection of sets.\n",
        " #\n",
        "list1 = {'a', 'a', 'b','b','b','c'}\n",
        "list2 = {'b', 'a','a','b','c','d'}\n",
        "z = list1.intersection(list2)\n",
        "\n",
        "print(z)\n",
        "\n",
        "#2-  a union of sets.\n",
        "y = list1.union(list2)\n",
        "print(y)\n",
        "#3- create set difference.\n",
        "h = list1.difference(list2)\n",
        "print(h)\n",
        "#4- a symmetric difference.\n",
        "f = list1.symmetric_difference(list2)\n",
        "print(f)"
      ],
      "metadata": {
        "colab": {
          "base_uri": "https://localhost:8080/"
        },
        "id": "2zb05WhNY5uC",
        "outputId": "42b48322-a373-4233-cdd9-ba183e85d7a5"
      },
      "execution_count": null,
      "outputs": [
        {
          "output_type": "stream",
          "name": "stdout",
          "text": [
            "{'b', 'a', 'c'}\n",
            "{'d', 'b', 'a', 'c'}\n",
            "set()\n",
            "{'d'}\n"
          ]
        }
      ]
    },
    {
      "cell_type": "code",
      "source": [
        "#Question  7Write a Python program to use of frozensets.\n",
        "mylist = ['apple', 'banana', 'cherry']\n",
        "x = frozenset(mylist)\n",
        "\n",
        "#x[1] = \"strawberry\"        ##cannot frozen\n",
        "print(x)\n",
        "\n",
        "\n"
      ],
      "metadata": {
        "colab": {
          "base_uri": "https://localhost:8080/"
        },
        "id": "13bA3BZ6cLNe",
        "outputId": "cb94c0e8-1b14-4aa9-8abf-2318834369fd"
      },
      "execution_count": null,
      "outputs": [
        {
          "output_type": "stream",
          "name": "stdout",
          "text": [
            "frozenset({'apple', 'banana', 'cherry'})\n"
          ]
        }
      ]
    },
    {
      "cell_type": "code",
      "source": [
        "# Question 8 Write a Python program to find maximum and the minimum value in a set.\n",
        "num = {30, 10, 15, 15, 2, 90}\n",
        "print(\"\\nMaximum value of the num set is:\",max(num))\n",
        "\n"
      ],
      "metadata": {
        "colab": {
          "base_uri": "https://localhost:8080/"
        },
        "id": "C0qusoUbevMK",
        "outputId": "331b28c8-2f04-4964-d4ec-dcbbac19ca6a"
      },
      "execution_count": null,
      "outputs": [
        {
          "output_type": "stream",
          "name": "stdout",
          "text": [
            "\n",
            "Maximum value of the num set is: 90\n"
          ]
        }
      ]
    },
    {
      "cell_type": "code",
      "source": [
        "# Question9 :With a given tuple (1,2,3,4,5,6,7,8,9,10), write a program to print the first half values in one line and the last half values in one line. \n",
        "#Hints:Use [n1:n2] notation to get a slice from a tuple.\n",
        "list = [1,2,3,4,5,6,7,8,9,10]\n",
        "\n",
        "# Create list1 with half elements (first 3 elements)\n",
        "n1 = list [:5]\n",
        "# Create list2 with next half elements (next 3 elements)\n",
        "n2 = list [5:]\n",
        "\n",
        "# print list (s)\n",
        "print (\"list : \",list)\n",
        "print (\"list1: \",n1)\n",
        "print (\"list2: \",n2)\n",
        "\n"
      ],
      "metadata": {
        "colab": {
          "base_uri": "https://localhost:8080/"
        },
        "id": "9EX9p2swhSjV",
        "outputId": "dffdf353-87de-4cd0-d658-dd714aace5d1"
      },
      "execution_count": null,
      "outputs": [
        {
          "output_type": "stream",
          "name": "stdout",
          "text": [
            "list :  [1, 2, 3, 4, 5, 6, 7, 8, 9, 100]\n",
            "list1:  [1, 2, 3, 4, 5]\n",
            "list2:  [6, 7, 8, 9, 100]\n"
          ]
        }
      ]
    },
    {
      "cell_type": "code",
      "source": [
        "# Question 10 :\n",
        "#You are required to write a program to sort the (name, age, height) tuples by ascending order where name is string, age and height are numbers. The tuples are input by console. The sort criteria is:\n",
        "#1: Sort based on name;\n",
        "#2: Then sort based on age;\n",
        "#3: Then sort by score.\n",
        "#The priority is that name > age > score.\n",
        "#If the following tuples are given as input to the program:\n",
        "#Tom,19,80\n",
        "#John,20,90\n",
        "#Jony,17,91\n",
        "#Jony,17,93\n",
        "#Json,21,85\n",
        "#Then, the output of the program should be:\n",
        "#[('John', '20', '90'), ('Jony', '17', '91'), ('Jony', '17', '93'), ('Json', '21', '85'), ('Tom', '19', '80')]\n",
        "\n",
        "#Hints:n case of input data being supplied to the question, it should be assumed to be a console input.\n",
        "#We use itemgetter to enable multiple sort keys.\n",
        "l = []\n",
        "while True:\n",
        "    s = raw_input()\n",
        "    if not s:\n",
        "        break\n",
        "    l.append(tuple(s.split(\",\")))\n",
        "\n",
        "print(sorted(l, key=itemgetter(0,1,2))\n"
      ],
      "metadata": {
        "id": "rrWNSx1tlBN0"
      },
      "execution_count": null,
      "outputs": []
    },
    {
      "cell_type": "code",
      "source": [
        "# Question 11:Please write a program to generate a list with 5 random numbers between 100 and 200 inclusive.\n",
        "\n",
        "import random\n",
        "print (random.sample(range(100,201), 5))"
      ],
      "metadata": {
        "colab": {
          "base_uri": "https://localhost:8080/"
        },
        "id": "hHpkNTb9T-3w",
        "outputId": "01ed7401-c172-415e-a95d-c95d81a3bc42"
      },
      "execution_count": null,
      "outputs": [
        {
          "output_type": "stream",
          "name": "stdout",
          "text": [
            "[180, 193, 153, 195, 173]\n"
          ]
        }
      ]
    },
    {
      "cell_type": "code",
      "source": [
        "# Question 12 Please write a program to randomly generate a list with 5 even numbers between 100 and 200 inclusive.\n",
        "import random\n",
        "print (random.sample([i for i in range(100,201) if i%2==0], 5))\n"
      ],
      "metadata": {
        "colab": {
          "base_uri": "https://localhost:8080/"
        },
        "id": "5duA0QRpYvG8",
        "outputId": "d353cf4a-d178-4ab3-bd77-308bbc47f83d"
      },
      "execution_count": null,
      "outputs": [
        {
          "output_type": "stream",
          "name": "stdout",
          "text": [
            "[176, 148, 160, 106, 112]\n"
          ]
        }
      ]
    },
    {
      "cell_type": "code",
      "source": [
        "# Question 13  Please write a program to randomly print a integer number between 7 and 15 inclusive.\n",
        "# Hints: Use random.randrange() to a random integer in a given range.\n",
        "import random\n",
        "resp = [i for i in range(7,16,1)]\n",
        "print(random.choice(resp))"
      ],
      "metadata": {
        "colab": {
          "base_uri": "https://localhost:8080/"
        },
        "id": "TIHpr9toZaNU",
        "outputId": "3623a2d2-3008-42ee-c0ef-8b360de6b083"
      },
      "execution_count": null,
      "outputs": [
        {
          "output_type": "stream",
          "name": "stdout",
          "text": [
            "7\n"
          ]
        }
      ]
    },
    {
      "cell_type": "code",
      "source": [
        "# Question 14\n",
        "Please write a program to print the running time of execution of \"1+1\" for 100 times.\n",
        "#ints:Use timeit() function to measure the running time.\n",
        "\n",
        "\n"
      ],
      "metadata": {
        "id": "99gNfwmxkKk8"
      },
      "execution_count": null,
      "outputs": []
    },
    {
      "cell_type": "code",
      "source": [
        ""
      ],
      "metadata": {
        "id": "KY5czEyOc-s7"
      },
      "execution_count": null,
      "outputs": []
    },
    {
      "cell_type": "code",
      "source": [
        " #Question 15 :Please write a program to shuffle and print the list [3,6,7,8].\n",
        "#Hints:Use shuffle() function to shuffle a list.\n",
        "from random import shuffle\n",
        "list = [3,6,7,8]\n",
        "shuffle(list)\n",
        "print(list)\n",
        "\n",
        "\n"
      ],
      "metadata": {
        "id": "aQ3tEtxQjmUa",
        "colab": {
          "base_uri": "https://localhost:8080/"
        },
        "outputId": "c8e22ab2-569d-4674-e369-7c27ac3b333f"
      },
      "execution_count": null,
      "outputs": [
        {
          "output_type": "stream",
          "name": "stdout",
          "text": [
            "[7, 8, 6, 3]\n"
          ]
        }
      ]
    },
    {
      "cell_type": "code",
      "source": [
        "f"
      ],
      "metadata": {
        "id": "dk74zx2wi9FV"
      },
      "execution_count": null,
      "outputs": []
    }
  ]
}