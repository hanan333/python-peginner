{
 "cells": [
  {
   "cell_type": "code",
   "execution_count": 1,
   "id": "ba4c9c62",
   "metadata": {},
   "outputs": [
    {
     "name": "stdout",
     "output_type": "stream",
     "text": [
      "e\n"
     ]
    }
   ],
   "source": [
    "#loop\n",
    "msg=\"Welcome To The Course\"\n",
    "print(msg[1])"
   ]
  },
  {
   "cell_type": "code",
   "execution_count": 2,
   "id": "d91192b3",
   "metadata": {},
   "outputs": [
    {
     "name": "stdout",
     "output_type": "stream",
     "text": [
      "e\n"
     ]
    }
   ],
   "source": [
    "index=len(msg)-1\n",
    "print(msg[index])"
   ]
  },
  {
   "cell_type": "code",
   "execution_count": 9,
   "id": "dc78a3fe",
   "metadata": {},
   "outputs": [
    {
     "name": "stdout",
     "output_type": "stream",
     "text": [
      "range(2, 20, 2)\n",
      "[2, 4, 6, 8, 10, 12, 14, 16, 18]\n"
     ]
    }
   ],
   "source": [
    "\n",
    "numbers=range(2,20,2)\n",
    "print(numbers)\n",
    "numbers=list (numbers)\n",
    "print(numbers)"
   ]
  },
  {
   "cell_type": "code",
   "execution_count": 10,
   "id": "fa59d939",
   "metadata": {},
   "outputs": [
    {
     "data": {
      "text/plain": [
       "True"
      ]
     },
     "execution_count": 10,
     "metadata": {},
     "output_type": "execute_result"
    }
   ],
   "source": [
    "2 in numbers"
   ]
  },
  {
   "cell_type": "code",
   "execution_count": 11,
   "id": "1304fefc",
   "metadata": {},
   "outputs": [
    {
     "name": "stdout",
     "output_type": "stream",
     "text": [
      "0\n",
      "1\n",
      "2\n",
      "3\n",
      "4\n",
      "5\n",
      "6\n",
      "7\n",
      "8\n",
      "9\n"
     ]
    }
   ],
   "source": [
    "for n in range(10):\n",
    "    print (n)\n"
   ]
  },
  {
   "cell_type": "code",
   "execution_count": 19,
   "id": "3d7e9582",
   "metadata": {},
   "outputs": [
    {
     "name": "stdout",
     "output_type": "stream",
     "text": [
      "W\n",
      "e\n",
      "l\n",
      "c\n",
      "o\n",
      "m\n",
      "e\n",
      " \n",
      "T\n",
      "o\n",
      " \n",
      "T\n",
      "h\n",
      "e\n",
      " \n",
      "C\n",
      "o\n",
      "u\n",
      "r\n",
      "s\n",
      "e\n"
     ]
    }
   ],
   "source": [
    "msg=\"Welcome To The Course\"\n",
    "for s in range(len(msg)):\n",
    "    print(msg[s])"
   ]
  },
  {
   "cell_type": "code",
   "execution_count": null,
   "id": "57fa38fd",
   "metadata": {},
   "outputs": [],
   "source": [
    "msg=\"Welcome To The Course\""
   ]
  },
  {
   "cell_type": "code",
   "execution_count": 21,
   "id": "55f06a35",
   "metadata": {},
   "outputs": [
    {
     "name": "stdout",
     "output_type": "stream",
     "text": [
      "W\n",
      "e\n",
      "l\n",
      "c\n",
      "o\n",
      "m\n",
      "e\n",
      " \n",
      "T\n",
      "o\n",
      " \n",
      "T\n",
      "h\n",
      "e\n",
      " \n",
      "C\n",
      "o\n",
      "u\n",
      "r\n",
      "s\n",
      "e\n"
     ]
    }
   ],
   "source": [
    "for s in (msg): \n",
    "    print(s)"
   ]
  },
  {
   "cell_type": "code",
   "execution_count": 23,
   "id": "10476f15",
   "metadata": {},
   "outputs": [
    {
     "name": "stdout",
     "output_type": "stream",
     "text": [
      "huda\n",
      "nareman\n",
      "body\n"
     ]
    }
   ],
   "source": [
    "list1=['huda','nareman','body']\n",
    "for name in list1:\n",
    "    print(name)"
   ]
  },
  {
   "cell_type": "code",
   "execution_count": 24,
   "id": "c21f046e",
   "metadata": {},
   "outputs": [
    {
     "name": "stdout",
     "output_type": "stream",
     "text": [
      "name  , Hanan\n",
      "job  , Eng\n",
      "hop  , learn\n"
     ]
    }
   ],
   "source": [
    "dic={'name':'Hanan','job': 'Eng','hop':'learn'}\n",
    "for key,value in dic.items():\n",
    "    print(key ,\" ,\" ,value)"
   ]
  },
  {
   "cell_type": "code",
   "execution_count": 26,
   "id": "79e57d72",
   "metadata": {},
   "outputs": [
    {
     "data": {
      "text/plain": [
       "dict_items([('name', 'Hanan'), ('job', 'Eng'), ('hop', 'learn')])"
      ]
     },
     "execution_count": 26,
     "metadata": {},
     "output_type": "execute_result"
    }
   ],
   "source": [
    "dic.items()   #tupple"
   ]
  },
  {
   "cell_type": "code",
   "execution_count": 30,
   "id": "b46ddafd",
   "metadata": {},
   "outputs": [
    {
     "name": "stdout",
     "output_type": "stream",
     "text": [
      "plz enter number3\n",
      "continue\n",
      "plz enter number87\n",
      "continue\n",
      "plz enter number0\n",
      "bye bye\n"
     ]
    }
   ],
   "source": [
    "# while loop\n",
    "num=input('plz enter number')\n",
    "while num !='0':\n",
    "    print('continue')\n",
    "    num=input('plz enter number')\n",
    "print('bye bye')"
   ]
  },
  {
   "cell_type": "code",
   "execution_count": 34,
   "id": "8f3bcb66",
   "metadata": {},
   "outputs": [
    {
     "name": "stdout",
     "output_type": "stream",
     "text": [
      "*****"
     ]
    }
   ],
   "source": [
    "#nested loop\n",
    "#step1 print- step 2 repeat\n",
    "for i in range(0,5,1):\n",
    "    print('*' ,end='')#on line no line under line\n"
   ]
  },
  {
   "cell_type": "code",
   "execution_count": 36,
   "id": "46a600dc",
   "metadata": {},
   "outputs": [
    {
     "name": "stdout",
     "output_type": "stream",
     "text": [
      "*****\n",
      "\n",
      "*****\n",
      "\n"
     ]
    }
   ],
   "source": [
    "#*******\n",
    "#***********\n",
    "for line in range(2):\n",
    "    for i in range(0,5):\n",
    "        print('*',end='')\n",
    "    print('\\n')\n"
   ]
  },
  {
   "cell_type": "code",
   "execution_count": null,
   "id": "9e4c21c7",
   "metadata": {},
   "outputs": [],
   "source": []
  }
 ],
 "metadata": {
  "kernelspec": {
   "display_name": "Python 3 (ipykernel)",
   "language": "python",
   "name": "python3"
  },
  "language_info": {
   "codemirror_mode": {
    "name": "ipython",
    "version": 3
   },
   "file_extension": ".py",
   "mimetype": "text/x-python",
   "name": "python",
   "nbconvert_exporter": "python",
   "pygments_lexer": "ipython3",
   "version": "3.9.7"
  }
 },
 "nbformat": 4,
 "nbformat_minor": 5
}
